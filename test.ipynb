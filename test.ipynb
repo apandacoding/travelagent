{
 "cells": [
  {
   "cell_type": "code",
   "execution_count": null,
   "id": "adaa9c62",
   "metadata": {},
   "outputs": [
    {
     "name": "stdout",
     "output_type": "stream",
     "text": [
      "Environment variables loaded successfully!\n"
     ]
    }
   ],
   "source": [
    "import os\n",
    "from dotenv import load_dotenv\n",
    "\n",
    "load_dotenv()\n",
    "os.environ[\"ANTHROPIC_API_KEY\"] =  \n",
    "\n"
   ]
  },
  {
   "cell_type": "code",
   "execution_count": 3,
   "id": "97dedd3a",
   "metadata": {},
   "outputs": [],
   "source": [
    "# import json for flight_param\n",
    "import json\n",
    "\n",
    "with open('/Users/aryanpanda/194/src/functions/google.json', 'r') as f:\n",
    "    serp_params = json.load(f)\n"
   ]
  },
  {
   "cell_type": "code",
   "execution_count": 27,
   "id": "166202d8",
   "metadata": {},
   "outputs": [
    {
     "name": "stdout",
     "output_type": "stream",
     "text": [
      "Collecting jsonschema\n",
      "  Using cached jsonschema-4.25.1-py3-none-any.whl.metadata (7.6 kB)\n",
      "Collecting attrs>=22.2.0 (from jsonschema)\n",
      "  Using cached attrs-25.3.0-py3-none-any.whl.metadata (10 kB)\n",
      "Collecting jsonschema-specifications>=2023.03.6 (from jsonschema)\n",
      "  Downloading jsonschema_specifications-2025.9.1-py3-none-any.whl.metadata (2.9 kB)\n",
      "Collecting referencing>=0.28.4 (from jsonschema)\n",
      "  Using cached referencing-0.36.2-py3-none-any.whl.metadata (2.8 kB)\n",
      "Collecting rpds-py>=0.7.1 (from jsonschema)\n",
      "  Downloading rpds_py-0.27.1-cp311-cp311-macosx_11_0_arm64.whl.metadata (4.2 kB)\n",
      "Requirement already satisfied: typing-extensions>=4.4.0 in /Users/aryanpanda/Library/Python/3.11/lib/python/site-packages (from referencing>=0.28.4->jsonschema) (4.15.0)\n",
      "Using cached jsonschema-4.25.1-py3-none-any.whl (90 kB)\n",
      "Using cached attrs-25.3.0-py3-none-any.whl (63 kB)\n",
      "Downloading jsonschema_specifications-2025.9.1-py3-none-any.whl (18 kB)\n",
      "Using cached referencing-0.36.2-py3-none-any.whl (26 kB)\n",
      "Downloading rpds_py-0.27.1-cp311-cp311-macosx_11_0_arm64.whl (353 kB)\n",
      "\u001b[2K   \u001b[90m━━━━━━━━━━━━━━━━━━━━━━━━━━━━━━━━━━━━━━━━\u001b[0m \u001b[32m353.2/353.2 kB\u001b[0m \u001b[31m2.3 MB/s\u001b[0m eta \u001b[36m0:00:00\u001b[0m00:01\u001b[0m00:01\u001b[0m\n",
      "\u001b[?25hInstalling collected packages: rpds-py, attrs, referencing, jsonschema-specifications, jsonschema\n",
      "Successfully installed attrs-25.3.0 jsonschema-4.25.1 jsonschema-specifications-2025.9.1 referencing-0.36.2 rpds-py-0.27.1\n",
      "\n",
      "\u001b[1m[\u001b[0m\u001b[34;49mnotice\u001b[0m\u001b[1;39;49m]\u001b[0m\u001b[39;49m A new release of pip is available: \u001b[0m\u001b[31;49m24.1.2\u001b[0m\u001b[39;49m -> \u001b[0m\u001b[32;49m25.2\u001b[0m\n",
      "\u001b[1m[\u001b[0m\u001b[34;49mnotice\u001b[0m\u001b[1;39;49m]\u001b[0m\u001b[39;49m To update, run: \u001b[0m\u001b[32;49mpython3.11 -m pip install --upgrade pip\u001b[0m\n",
      "Note: you may need to restart the kernel to use updated packages.\n"
     ]
    }
   ],
   "source": [
    "%pip install jsonschema"
   ]
  },
  {
   "cell_type": "code",
   "execution_count": 37,
   "id": "fce223e4",
   "metadata": {},
   "outputs": [],
   "source": [
    "from jsonschema import validate, ValidationError"
   ]
  },
  {
   "cell_type": "code",
   "execution_count": 40,
   "id": "026e6485",
   "metadata": {},
   "outputs": [],
   "source": [
    "iata_schema = {\n",
    "    \"type\": \"object\",\n",
    "    \"properties\": {\n",
    "        \"from\": {\"type\": \"string\", \"description\": \"The city of the departure\", \"pattern\": \"^[A-Z]{3}$\"},\n",
    "        \"destination\": {\"type\": \"string\", \"description\": \"The city of the destination\", \"pattern\": \"^[A-Z]{3}$\"}\n",
    "    }\n",
    "}\n",
    "\n",
    "validate(instance=iata_schema, schema=iata_schema)"
   ]
  },
  {
   "cell_type": "code",
   "execution_count": 52,
   "id": "3345c9b3",
   "metadata": {},
   "outputs": [],
   "source": [
    "def anthropic_IATA_call(iata_result: str):\n",
    "    client = anthropic.Anthropic(api_key=\"YOUR_ANTHROPIC_API_KEY\")\n",
    "    \n",
    "    response = client.messages.create(\n",
    "        model=\"claude-sonnet-4-5\",\n",
    "        system=\"Return the IATA codes for the city provided by the user\",\n",
    "        tools=[{\n",
    "            \"name\": \"get_iata_codes\",\n",
    "            \"description\": \"Return the IATA codes for the city provided by the user\",\n",
    "            \"input_schema\": iata_schema,\n",
    "        }],\n",
    "        tool_choice={\"type\": \"tool\", \"name\": \"get_iata_codes\"},\n",
    "        messages=[{\"role\": \"user\", \"content\": f\"Cities mapped: {iata_result}\"}], \n",
    "        max_tokens=1024\n",
    "    )\n",
    "    iata_codes = response.content[0].input \n",
    "    return iata_codes"
   ]
  },
  {
   "cell_type": "code",
   "execution_count": 53,
   "id": "759d13d4",
   "metadata": {},
   "outputs": [
    {
     "data": {
      "text/plain": [
       "{'from': 'OAK', 'destination': 'NYC'}"
      ]
     },
     "execution_count": 53,
     "metadata": {},
     "output_type": "execute_result"
    }
   ],
   "source": [
    "prompt = \"Looking to book a flight from Oakland to New York\"\n",
    "anthropic_IATA_call(prompt)"
   ]
  },
  {
   "cell_type": "code",
   "execution_count": null,
   "id": "0c8549e2",
   "metadata": {},
   "outputs": [],
   "source": [
    "# google flights function call\n",
    "import anthropic\n",
    "\n",
    "# flights_json is the source data (already created in previous cells)\n",
    "# flight_json is the tool call schema (already loaded in previous cells)\n",
    "def get_flight_api_params(prompt):\n",
    "    client = anthropic.Anthropic(api_key=\"YOUR_ANTHROPIC_API_KEY\")\n",
    "    response = client.messages.create(\n",
    "        model=\"claude-sonnet-4-5\",\n",
    "        max_tokens=1024,\n",
    "        tools=[\n",
    "            {\n",
    "                \"name\": \"get_flight_api_params\",\n",
    "                \"description\": \"Follow the tool call schema to get the api params for google flights\",\n",
    "                \"input_schema\": serp_params,\n",
    "            }\n",
    "        ],\n",
    "        tool_choice={\"type\": \"tool\", \"name\": \"get_flight_api_params\"},  # force use\n",
    "        messages=[\n",
    "            {\n",
    "                \"role\": \"user\",\n",
    "                \"content\": [\n",
    "                    {\n",
    "                        \"type\": \"text\",\n",
    "                        \"text\": \"Call the tool ONCE based on the context of the tool call, using the context of the users request\"\n",
    "                    },\n",
    "                    {\n",
    "                        \"type\": \"text\",\n",
    "                        \"text\": \"The prompt with the user's request and the iata codes: {prompt}\"\n",
    "                    }\n",
    "                ]\n",
    "            }\n",
    "        ],\n",
    "    )\n",
    "    return response"
   ]
  },
  {
   "cell_type": "code",
   "execution_count": 50,
   "id": "5794f80e",
   "metadata": {},
   "outputs": [
    {
     "name": "stdout",
     "output_type": "stream",
     "text": [
      "Collecting langchain_core\n",
      "  Downloading langchain_core-0.3.77-py3-none-any.whl.metadata (3.2 kB)\n",
      "Collecting langsmith<1.0.0,>=0.3.45 (from langchain_core)\n",
      "  Downloading langsmith-0.4.31-py3-none-any.whl.metadata (14 kB)\n",
      "Collecting tenacity!=8.4.0,<10.0.0,>=8.1.0 (from langchain_core)\n",
      "  Using cached tenacity-9.1.2-py3-none-any.whl.metadata (1.2 kB)\n",
      "Collecting jsonpatch<2.0.0,>=1.33.0 (from langchain_core)\n",
      "  Using cached jsonpatch-1.33-py2.py3-none-any.whl.metadata (3.0 kB)\n",
      "Collecting PyYAML<7.0.0,>=5.3.0 (from langchain_core)\n",
      "  Downloading pyyaml-6.0.3-cp311-cp311-macosx_11_0_arm64.whl.metadata (2.4 kB)\n",
      "Requirement already satisfied: typing-extensions<5.0.0,>=4.7.0 in /Users/aryanpanda/Library/Python/3.11/lib/python/site-packages (from langchain_core) (4.15.0)\n",
      "Requirement already satisfied: packaging<26.0.0,>=23.2.0 in /Users/aryanpanda/Library/Python/3.11/lib/python/site-packages (from langchain_core) (25.0)\n",
      "Requirement already satisfied: pydantic<3.0.0,>=2.7.4 in /opt/homebrew/lib/python3.11/site-packages (from langchain_core) (2.11.9)\n",
      "Collecting jsonpointer>=1.9 (from jsonpatch<2.0.0,>=1.33.0->langchain_core)\n",
      "  Using cached jsonpointer-3.0.0-py2.py3-none-any.whl.metadata (2.3 kB)\n",
      "Requirement already satisfied: httpx<1,>=0.23.0 in /opt/homebrew/lib/python3.11/site-packages (from langsmith<1.0.0,>=0.3.45->langchain_core) (0.28.1)\n",
      "Collecting orjson>=3.9.14 (from langsmith<1.0.0,>=0.3.45->langchain_core)\n",
      "  Downloading orjson-3.11.3-cp311-cp311-macosx_10_15_x86_64.macosx_11_0_arm64.macosx_10_15_universal2.whl.metadata (41 kB)\n",
      "\u001b[2K     \u001b[90m━━━━━━━━━━━━━━━━━━━━━━━━━━━━━━━━━━━━━━━━\u001b[0m \u001b[32m41.9/41.9 kB\u001b[0m \u001b[31m1.5 MB/s\u001b[0m eta \u001b[36m0:00:00\u001b[0m\n",
      "\u001b[?25hCollecting requests-toolbelt>=1.0.0 (from langsmith<1.0.0,>=0.3.45->langchain_core)\n",
      "  Using cached requests_toolbelt-1.0.0-py2.py3-none-any.whl.metadata (14 kB)\n",
      "Requirement already satisfied: requests>=2.0.0 in /opt/homebrew/lib/python3.11/site-packages (from langsmith<1.0.0,>=0.3.45->langchain_core) (2.32.5)\n",
      "Collecting zstandard>=0.23.0 (from langsmith<1.0.0,>=0.3.45->langchain_core)\n",
      "  Downloading zstandard-0.25.0-cp311-cp311-macosx_11_0_arm64.whl.metadata (3.3 kB)\n",
      "Requirement already satisfied: annotated-types>=0.6.0 in /opt/homebrew/lib/python3.11/site-packages (from pydantic<3.0.0,>=2.7.4->langchain_core) (0.7.0)\n",
      "Requirement already satisfied: pydantic-core==2.33.2 in /opt/homebrew/lib/python3.11/site-packages (from pydantic<3.0.0,>=2.7.4->langchain_core) (2.33.2)\n",
      "Requirement already satisfied: typing-inspection>=0.4.0 in /opt/homebrew/lib/python3.11/site-packages (from pydantic<3.0.0,>=2.7.4->langchain_core) (0.4.1)\n",
      "Requirement already satisfied: anyio in /opt/homebrew/lib/python3.11/site-packages (from httpx<1,>=0.23.0->langsmith<1.0.0,>=0.3.45->langchain_core) (4.11.0)\n",
      "Requirement already satisfied: certifi in /opt/homebrew/lib/python3.11/site-packages (from httpx<1,>=0.23.0->langsmith<1.0.0,>=0.3.45->langchain_core) (2025.8.3)\n",
      "Requirement already satisfied: httpcore==1.* in /opt/homebrew/lib/python3.11/site-packages (from httpx<1,>=0.23.0->langsmith<1.0.0,>=0.3.45->langchain_core) (1.0.9)\n",
      "Requirement already satisfied: idna in /opt/homebrew/lib/python3.11/site-packages (from httpx<1,>=0.23.0->langsmith<1.0.0,>=0.3.45->langchain_core) (3.10)\n",
      "Requirement already satisfied: h11>=0.16 in /opt/homebrew/lib/python3.11/site-packages (from httpcore==1.*->httpx<1,>=0.23.0->langsmith<1.0.0,>=0.3.45->langchain_core) (0.16.0)\n",
      "Requirement already satisfied: charset_normalizer<4,>=2 in /opt/homebrew/lib/python3.11/site-packages (from requests>=2.0.0->langsmith<1.0.0,>=0.3.45->langchain_core) (3.4.3)\n",
      "Requirement already satisfied: urllib3<3,>=1.21.1 in /opt/homebrew/lib/python3.11/site-packages (from requests>=2.0.0->langsmith<1.0.0,>=0.3.45->langchain_core) (2.5.0)\n",
      "Requirement already satisfied: sniffio>=1.1 in /opt/homebrew/lib/python3.11/site-packages (from anyio->httpx<1,>=0.23.0->langsmith<1.0.0,>=0.3.45->langchain_core) (1.3.1)\n",
      "Downloading langchain_core-0.3.77-py3-none-any.whl (449 kB)\n",
      "\u001b[2K   \u001b[90m━━━━━━━━━━━━━━━━━━━━━━━━━━━━━━━━━━━━━━━━\u001b[0m \u001b[32m449.5/449.5 kB\u001b[0m \u001b[31m5.6 MB/s\u001b[0m eta \u001b[36m0:00:00\u001b[0mta \u001b[36m0:00:01\u001b[0m\n",
      "\u001b[?25hUsing cached jsonpatch-1.33-py2.py3-none-any.whl (12 kB)\n",
      "Downloading langsmith-0.4.31-py3-none-any.whl (386 kB)\n",
      "\u001b[2K   \u001b[90m━━━━━━━━━━━━━━━━━━━━━━━━━━━━━━━━━━━━━━━━\u001b[0m \u001b[32m386.3/386.3 kB\u001b[0m \u001b[31m6.0 MB/s\u001b[0m eta \u001b[36m0:00:00\u001b[0mta \u001b[36m0:00:01\u001b[0m\n",
      "\u001b[?25hDownloading pyyaml-6.0.3-cp311-cp311-macosx_11_0_arm64.whl (175 kB)\n",
      "\u001b[2K   \u001b[90m━━━━━━━━━━━━━━━━━━━━━━━━━━━━━━━━━━━━━━━━\u001b[0m \u001b[32m175.6/175.6 kB\u001b[0m \u001b[31m6.6 MB/s\u001b[0m eta \u001b[36m0:00:00\u001b[0m\n",
      "\u001b[?25hUsing cached tenacity-9.1.2-py3-none-any.whl (28 kB)\n",
      "Using cached jsonpointer-3.0.0-py2.py3-none-any.whl (7.6 kB)\n",
      "Downloading orjson-3.11.3-cp311-cp311-macosx_10_15_x86_64.macosx_11_0_arm64.macosx_10_15_universal2.whl (238 kB)\n",
      "\u001b[2K   \u001b[90m━━━━━━━━━━━━━━━━━━━━━━━━━━━━━━━━━━━━━━━━\u001b[0m \u001b[32m238.2/238.2 kB\u001b[0m \u001b[31m6.7 MB/s\u001b[0m eta \u001b[36m0:00:00\u001b[0m\n",
      "\u001b[?25hUsing cached requests_toolbelt-1.0.0-py2.py3-none-any.whl (54 kB)\n",
      "Downloading zstandard-0.25.0-cp311-cp311-macosx_11_0_arm64.whl (640 kB)\n",
      "\u001b[2K   \u001b[90m━━━━━━━━━━━━━━━━━━━━━━━━━━━━━━━━━━━━━━━━\u001b[0m \u001b[32m640.6/640.6 kB\u001b[0m \u001b[31m4.8 MB/s\u001b[0m eta \u001b[36m0:00:00\u001b[0ma \u001b[36m0:00:01\u001b[0m\n",
      "\u001b[?25hInstalling collected packages: zstandard, tenacity, PyYAML, orjson, jsonpointer, requests-toolbelt, jsonpatch, langsmith, langchain_core\n",
      "Successfully installed PyYAML-6.0.3 jsonpatch-1.33 jsonpointer-3.0.0 langchain_core-0.3.77 langsmith-0.4.31 orjson-3.11.3 requests-toolbelt-1.0.0 tenacity-9.1.2 zstandard-0.25.0\n",
      "\n",
      "\u001b[1m[\u001b[0m\u001b[34;49mnotice\u001b[0m\u001b[1;39;49m]\u001b[0m\u001b[39;49m A new release of pip is available: \u001b[0m\u001b[31;49m24.1.2\u001b[0m\u001b[39;49m -> \u001b[0m\u001b[32;49m25.2\u001b[0m\n",
      "\u001b[1m[\u001b[0m\u001b[34;49mnotice\u001b[0m\u001b[1;39;49m]\u001b[0m\u001b[39;49m To update, run: \u001b[0m\u001b[32;49mpython3.11 -m pip install --upgrade pip\u001b[0m\n",
      "Note: you may need to restart the kernel to use updated packages.\n"
     ]
    }
   ],
   "source": [
    "%pip install langchain_core"
   ]
  },
  {
   "cell_type": "code",
   "execution_count": null,
   "id": "71a07158",
   "metadata": {},
   "outputs": [
    {
     "name": "stdout",
     "output_type": "stream",
     "text": [
      "{'engine': 'google_flights', 'departure_id': 'OAK', 'arrival_id': 'EWR', 'outbound_date': '<UNKNOWN>', 'return_date': '<UNKNOWN>', 'currency': 'USD', 'hl': 'en', 'gl': 'us', 'api_key': '4a871fe30bb1fed4dc0850f01d384a2fff2dee8a74046b902109785f1a9bd730'}\n"
     ]
    }
   ],
   "source": [
    "\n",
    "def get_flight_api_params(iata_result: dict):\n",
    "    client = anthropic.Anthropic(api_key=)\n",
    "\n",
    "    # build a new structured prompt using the IATA result\n",
    "    prompt_text = (\n",
    "        f\"Departure: {iata_result.get('from')} | \"\n",
    "        f\"Arrival: {iata_result.get('destination')} | \"\n",
    "        f\"Original user request included these IATA codes.\"\n",
    "    )\n",
    "\n",
    "    response = client.messages.create(\n",
    "        model=\"claude-sonnet-4-5\",\n",
    "        max_tokens=1024,\n",
    "        tools=[{\n",
    "            \"name\": \"get_flight_api_params\",\n",
    "            \"description\": \"Follow the tool call schema to get the api params for google flights\",\n",
    "            \"input_schema\": serp_params,\n",
    "        }],\n",
    "        tool_choice={\"type\": \"tool\", \"name\": \"get_flight_api_params\"},\n",
    "        messages=[{\"role\": \"user\", \"content\": prompt_text}],\n",
    "    )\n",
    "\n",
    "    # Extract structured params\n",
    "    tool_block = response.content[0]\n",
    "    params = tool_block.input  # final Google Flights params dict\n",
    "    params['api_key'] = '4a871fe30bb1fed4dc0850f01d384a2fff2dee8a74046b902109785f1a9bd730'\n",
    "\n",
    "    return params\n",
    "\n",
    "\n",
    "# --- LangChain pipeline ---\n",
    "iata_chain = RunnableLambda(anthropic_IATA_call)\n",
    "flight_chain = RunnableLambda(get_flight_api_params)\n",
    "\n",
    "pipeline = RunnableSequence(first=iata_chain, last=flight_chain)\n",
    "\n",
    "# Example run\n",
    "user_prompt = \"Book me a flight from Oakland to Newark next week\"\n",
    "result = pipeline.invoke(user_prompt)\n",
    "\n",
    "print(result)"
   ]
  },
  {
   "cell_type": "code",
   "execution_count": 72,
   "id": "61465764",
   "metadata": {},
   "outputs": [
    {
     "name": "stdout",
     "output_type": "stream",
     "text": [
      "\u001b[31mERROR: Could not find a version that satisfies the requirement langgraph.graph (from versions: none)\u001b[0m\u001b[31m\n",
      "\u001b[0m\u001b[31mERROR: No matching distribution found for langgraph.graph\u001b[0m\u001b[31m\n",
      "\u001b[0mNote: you may need to restart the kernel to use updated packages.\n"
     ]
    }
   ],
   "source": [
    "%pip install langgraph.graph"
   ]
  },
  {
   "cell_type": "code",
   "execution_count": 3,
   "id": "6d510dd7",
   "metadata": {},
   "outputs": [],
   "source": [
    "from langchain_core.messages import BaseMessage\n",
    "from langgraph.graph.message import add_messages\n"
   ]
  },
  {
   "cell_type": "code",
   "execution_count": null,
   "id": "c46df6fe",
   "metadata": {},
   "outputs": [
    {
     "data": {
      "image/png": "[encoded data removed]",
      "text/plain": [
       "<langgraph.graph.state.CompiledStateGraph object at 0x105746950>"
      ]
     },
     "execution_count": 4,
     "metadata": {},
     "output_type": "execute_result"
    }
   ],
   "source": [
    "from langchain_anthropic.chat_models import ChatAnthropic\n",
    "from langgraph.graph import StateGraph\n",
    "from typing import TypedDict\n",
    "from typing_extensions import Annotated\n",
    "from langgraph.graph import START, MessagesState, StateGraph, END\n",
    "\n",
    "llm = ChatAnthropic(model=\"claude-sonnet-4-5\", anthropic_api_key=)\n",
    "\n",
    "class State(TypedDict):\n",
    "    messages: Annotated[list, add_messages]\n",
    "\n",
    "\n",
    "def chat_assistant(state: State):\n",
    "    messages = llm.invoke(state[\"messages\"])\n",
    "    return {\"messages\": [messages]}\n",
    "\n",
    "\n",
    "builder = StateGraph(State)\n",
    "\n",
    "builder.add_node(\"chatbot_node\", chat_assistant)\n",
    "\n",
    "builder.add_edge(START, \"chatbot_node\")\n",
    "builder.add_edge(\"chatbot_node\", END)\n",
    "\n",
    "graph = builder.compile()\n",
    "\n",
    "\n",
    "\n",
    "messages = {\"role\": \"user\", \"content\": \"Hello, how are you?\"}\n",
    "response = graph.invoke({\"messages\": [messages]})\n",
    "\n",
    "builder.compile()\n",
    "\n",
    "\n",
    "\n",
    "\n",
    "\n"
   ]
  },
  {
   "cell_type": "code",
   "execution_count": 7,
   "id": "e5a05e76",
   "metadata": {},
   "outputs": [
    {
     "name": "stdout",
     "output_type": "stream",
     "text": [
      "Bot: I don't have access to real-time weather information or the internet, so I can't tell you the current weather in Berkeley.\n",
      "\n",
      "To get current weather conditions in Berkeley, you could:\n",
      "- Check weather websites like weather.com, weather.gov, or wunderground.com\n",
      "- Use a search engine and type \"Berkeley weather\"\n",
      "- Use a weather app on your phone\n",
      "- Ask a voice assistant with internet access like Siri, Google Assistant, or Alexa\n",
      "\n",
      "Is there anything else I can help you with?\n"
     ]
    },
    {
     "ename": "NotImplementedError",
     "evalue": "Unsupported message type: <class 'list'>\nFor troubleshooting, visit: https://python.langchain.com/docs/troubleshooting/errors/MESSAGE_COERCION_FAILURE ",
     "output_type": "error",
     "traceback": [
      "\u001b[31m---------------------------------------------------------------------------\u001b[39m",
      "\u001b[31mNotImplementedError\u001b[39m                       Traceback (most recent call last)",
      "\u001b[36mCell\u001b[39m\u001b[36m \u001b[39m\u001b[32mIn[7]\u001b[39m\u001b[32m, line 13\u001b[39m\n\u001b[32m     11\u001b[39m     state[\u001b[33m\"\u001b[39m\u001b[33mmessages\u001b[39m\u001b[33m\"\u001b[39m].append([{\u001b[33m\"\u001b[39m\u001b[33mrole\u001b[39m\u001b[33m\"\u001b[39m: \u001b[33m\"\u001b[39m\u001b[33muser\u001b[39m\u001b[33m\"\u001b[39m, \u001b[33m\"\u001b[39m\u001b[33mcontent\u001b[39m\u001b[33m\"\u001b[39m: in_message}])\n\u001b[32m     12\u001b[39m \u001b[38;5;66;03m# invoke the graph\u001b[39;00m\n\u001b[32m---> \u001b[39m\u001b[32m13\u001b[39m response = \u001b[43mgraph\u001b[49m\u001b[43m.\u001b[49m\u001b[43minvoke\u001b[49m\u001b[43m(\u001b[49m\u001b[43mstate\u001b[49m\u001b[43m)\u001b[49m\n\u001b[32m     15\u001b[39m \u001b[38;5;66;03m# update state with model's reply (add_messages will merge correctly)\u001b[39;00m\n\u001b[32m     16\u001b[39m state = response\n",
      "\u001b[36mFile \u001b[39m\u001b[32m/opt/homebrew/lib/python3.11/site-packages/langgraph/pregel/main.py:3068\u001b[39m, in \u001b[36mPregel.invoke\u001b[39m\u001b[34m(self, input, config, context, stream_mode, print_mode, output_keys, interrupt_before, interrupt_after, durability, **kwargs)\u001b[39m\n\u001b[32m   3065\u001b[39m chunks: \u001b[38;5;28mlist\u001b[39m[\u001b[38;5;28mdict\u001b[39m[\u001b[38;5;28mstr\u001b[39m, Any] | Any] = []\n\u001b[32m   3066\u001b[39m interrupts: \u001b[38;5;28mlist\u001b[39m[Interrupt] = []\n\u001b[32m-> \u001b[39m\u001b[32m3068\u001b[39m \u001b[43m\u001b[49m\u001b[38;5;28;43;01mfor\u001b[39;49;00m\u001b[43m \u001b[49m\u001b[43mchunk\u001b[49m\u001b[43m \u001b[49m\u001b[38;5;129;43;01min\u001b[39;49;00m\u001b[43m \u001b[49m\u001b[38;5;28;43mself\u001b[39;49m\u001b[43m.\u001b[49m\u001b[43mstream\u001b[49m\u001b[43m(\u001b[49m\n\u001b[32m   3069\u001b[39m \u001b[43m    \u001b[49m\u001b[38;5;28;43minput\u001b[39;49m\u001b[43m,\u001b[49m\n\u001b[32m   3070\u001b[39m \u001b[43m    \u001b[49m\u001b[43mconfig\u001b[49m\u001b[43m,\u001b[49m\n\u001b[32m   3071\u001b[39m \u001b[43m    \u001b[49m\u001b[43mcontext\u001b[49m\u001b[43m=\u001b[49m\u001b[43mcontext\u001b[49m\u001b[43m,\u001b[49m\n\u001b[32m   3072\u001b[39m \u001b[43m    \u001b[49m\u001b[43mstream_mode\u001b[49m\u001b[43m=\u001b[49m\u001b[43m[\u001b[49m\u001b[33;43m\"\u001b[39;49m\u001b[33;43mupdates\u001b[39;49m\u001b[33;43m\"\u001b[39;49m\u001b[43m,\u001b[49m\u001b[43m \u001b[49m\u001b[33;43m\"\u001b[39;49m\u001b[33;43mvalues\u001b[39;49m\u001b[33;43m\"\u001b[39;49m\u001b[43m]\u001b[49m\n\u001b[32m   3073\u001b[39m \u001b[43m    \u001b[49m\u001b[38;5;28;43;01mif\u001b[39;49;00m\u001b[43m \u001b[49m\u001b[43mstream_mode\u001b[49m\u001b[43m \u001b[49m\u001b[43m==\u001b[49m\u001b[43m \u001b[49m\u001b[33;43m\"\u001b[39;49m\u001b[33;43mvalues\u001b[39;49m\u001b[33;43m\"\u001b[39;49m\n\u001b[32m   3074\u001b[39m \u001b[43m    \u001b[49m\u001b[38;5;28;43;01melse\u001b[39;49;00m\u001b[43m \u001b[49m\u001b[43mstream_mode\u001b[49m\u001b[43m,\u001b[49m\n\u001b[32m   3075\u001b[39m \u001b[43m    \u001b[49m\u001b[43mprint_mode\u001b[49m\u001b[43m=\u001b[49m\u001b[43mprint_mode\u001b[49m\u001b[43m,\u001b[49m\n\u001b[32m   3076\u001b[39m \u001b[43m    \u001b[49m\u001b[43moutput_keys\u001b[49m\u001b[43m=\u001b[49m\u001b[43moutput_keys\u001b[49m\u001b[43m,\u001b[49m\n\u001b[32m   3077\u001b[39m \u001b[43m    \u001b[49m\u001b[43minterrupt_before\u001b[49m\u001b[43m=\u001b[49m\u001b[43minterrupt_before\u001b[49m\u001b[43m,\u001b[49m\n\u001b[32m   3078\u001b[39m \u001b[43m    \u001b[49m\u001b[43minterrupt_after\u001b[49m\u001b[43m=\u001b[49m\u001b[43minterrupt_after\u001b[49m\u001b[43m,\u001b[49m\n\u001b[32m   3079\u001b[39m \u001b[43m    \u001b[49m\u001b[43mdurability\u001b[49m\u001b[43m=\u001b[49m\u001b[43mdurability\u001b[49m\u001b[43m,\u001b[49m\n\u001b[32m   3080\u001b[39m \u001b[43m    \u001b[49m\u001b[43m*\u001b[49m\u001b[43m*\u001b[49m\u001b[43mkwargs\u001b[49m\u001b[43m,\u001b[49m\n\u001b[32m   3081\u001b[39m \u001b[43m\u001b[49m\u001b[43m)\u001b[49m\u001b[43m:\u001b[49m\n\u001b[32m   3082\u001b[39m \u001b[43m    \u001b[49m\u001b[38;5;28;43;01mif\u001b[39;49;00m\u001b[43m \u001b[49m\u001b[43mstream_mode\u001b[49m\u001b[43m \u001b[49m\u001b[43m==\u001b[49m\u001b[43m \u001b[49m\u001b[33;43m\"\u001b[39;49m\u001b[33;43mvalues\u001b[39;49m\u001b[33;43m\"\u001b[39;49m\u001b[43m:\u001b[49m\n\u001b[32m   3083\u001b[39m \u001b[43m        \u001b[49m\u001b[38;5;28;43;01mif\u001b[39;49;00m\u001b[43m \u001b[49m\u001b[38;5;28;43mlen\u001b[39;49m\u001b[43m(\u001b[49m\u001b[43mchunk\u001b[49m\u001b[43m)\u001b[49m\u001b[43m \u001b[49m\u001b[43m==\u001b[49m\u001b[43m \u001b[49m\u001b[32;43m2\u001b[39;49m\u001b[43m:\u001b[49m\n",
      "\u001b[36mFile \u001b[39m\u001b[32m/opt/homebrew/lib/python3.11/site-packages/langgraph/pregel/main.py:2667\u001b[39m, in \u001b[36mPregel.stream\u001b[39m\u001b[34m(self, input, config, context, stream_mode, print_mode, output_keys, interrupt_before, interrupt_after, durability, subgraphs, debug, **kwargs)\u001b[39m\n\u001b[32m   2657\u001b[39m \u001b[38;5;28;01mfor\u001b[39;00m _ \u001b[38;5;129;01min\u001b[39;00m runner.tick(\n\u001b[32m   2658\u001b[39m     [t \u001b[38;5;28;01mfor\u001b[39;00m t \u001b[38;5;129;01min\u001b[39;00m loop.tasks.values() \u001b[38;5;28;01mif\u001b[39;00m \u001b[38;5;129;01mnot\u001b[39;00m t.writes],\n\u001b[32m   2659\u001b[39m     timeout=\u001b[38;5;28mself\u001b[39m.step_timeout,\n\u001b[32m   (...)\u001b[39m\u001b[32m   2662\u001b[39m ):\n\u001b[32m   2663\u001b[39m     \u001b[38;5;66;03m# emit output\u001b[39;00m\n\u001b[32m   2664\u001b[39m     \u001b[38;5;28;01myield from\u001b[39;00m _output(\n\u001b[32m   2665\u001b[39m         stream_mode, print_mode, subgraphs, stream.get, queue.Empty\n\u001b[32m   2666\u001b[39m     )\n\u001b[32m-> \u001b[39m\u001b[32m2667\u001b[39m \u001b[43mloop\u001b[49m\u001b[43m.\u001b[49m\u001b[43mafter_tick\u001b[49m\u001b[43m(\u001b[49m\u001b[43m)\u001b[49m\n\u001b[32m   2668\u001b[39m \u001b[38;5;66;03m# wait for checkpoint\u001b[39;00m\n\u001b[32m   2669\u001b[39m \u001b[38;5;28;01mif\u001b[39;00m durability_ == \u001b[33m\"\u001b[39m\u001b[33msync\u001b[39m\u001b[33m\"\u001b[39m:\n",
      "\u001b[36mFile \u001b[39m\u001b[32m/opt/homebrew/lib/python3.11/site-packages/langgraph/pregel/_loop.py:527\u001b[39m, in \u001b[36mPregelLoop.after_tick\u001b[39m\u001b[34m(self)\u001b[39m\n\u001b[32m    525\u001b[39m writes = [w \u001b[38;5;28;01mfor\u001b[39;00m t \u001b[38;5;129;01min\u001b[39;00m \u001b[38;5;28mself\u001b[39m.tasks.values() \u001b[38;5;28;01mfor\u001b[39;00m w \u001b[38;5;129;01min\u001b[39;00m t.writes]\n\u001b[32m    526\u001b[39m \u001b[38;5;66;03m# all tasks have finished\u001b[39;00m\n\u001b[32m--> \u001b[39m\u001b[32m527\u001b[39m \u001b[38;5;28mself\u001b[39m.updated_channels = \u001b[43mapply_writes\u001b[49m\u001b[43m(\u001b[49m\n\u001b[32m    528\u001b[39m \u001b[43m    \u001b[49m\u001b[38;5;28;43mself\u001b[39;49m\u001b[43m.\u001b[49m\u001b[43mcheckpoint\u001b[49m\u001b[43m,\u001b[49m\n\u001b[32m    529\u001b[39m \u001b[43m    \u001b[49m\u001b[38;5;28;43mself\u001b[39;49m\u001b[43m.\u001b[49m\u001b[43mchannels\u001b[49m\u001b[43m,\u001b[49m\n\u001b[32m    530\u001b[39m \u001b[43m    \u001b[49m\u001b[38;5;28;43mself\u001b[39;49m\u001b[43m.\u001b[49m\u001b[43mtasks\u001b[49m\u001b[43m.\u001b[49m\u001b[43mvalues\u001b[49m\u001b[43m(\u001b[49m\u001b[43m)\u001b[49m\u001b[43m,\u001b[49m\n\u001b[32m    531\u001b[39m \u001b[43m    \u001b[49m\u001b[38;5;28;43mself\u001b[39;49m\u001b[43m.\u001b[49m\u001b[43mcheckpointer_get_next_version\u001b[49m\u001b[43m,\u001b[49m\n\u001b[32m    532\u001b[39m \u001b[43m    \u001b[49m\u001b[38;5;28;43mself\u001b[39;49m\u001b[43m.\u001b[49m\u001b[43mtrigger_to_nodes\u001b[49m\u001b[43m,\u001b[49m\n\u001b[32m    533\u001b[39m \u001b[43m\u001b[49m\u001b[43m)\u001b[49m\n\u001b[32m    534\u001b[39m \u001b[38;5;66;03m# produce values output\u001b[39;00m\n\u001b[32m    535\u001b[39m \u001b[38;5;28;01mif\u001b[39;00m \u001b[38;5;129;01mnot\u001b[39;00m \u001b[38;5;28mself\u001b[39m.updated_channels.isdisjoint(\n\u001b[32m    536\u001b[39m     (\u001b[38;5;28mself\u001b[39m.output_keys,)\n\u001b[32m    537\u001b[39m     \u001b[38;5;28;01mif\u001b[39;00m \u001b[38;5;28misinstance\u001b[39m(\u001b[38;5;28mself\u001b[39m.output_keys, \u001b[38;5;28mstr\u001b[39m)\n\u001b[32m    538\u001b[39m     \u001b[38;5;28;01melse\u001b[39;00m \u001b[38;5;28mself\u001b[39m.output_keys\n\u001b[32m    539\u001b[39m ):\n",
      "\u001b[36mFile \u001b[39m\u001b[32m/opt/homebrew/lib/python3.11/site-packages/langgraph/pregel/_algo.py:295\u001b[39m, in \u001b[36mapply_writes\u001b[39m\u001b[34m(checkpoint, channels, tasks, get_next_version, trigger_to_nodes)\u001b[39m\n\u001b[32m    293\u001b[39m \u001b[38;5;28;01mfor\u001b[39;00m chan, vals \u001b[38;5;129;01min\u001b[39;00m pending_writes_by_channel.items():\n\u001b[32m    294\u001b[39m     \u001b[38;5;28;01mif\u001b[39;00m chan \u001b[38;5;129;01min\u001b[39;00m channels:\n\u001b[32m--> \u001b[39m\u001b[32m295\u001b[39m         \u001b[38;5;28;01mif\u001b[39;00m \u001b[43mchannels\u001b[49m\u001b[43m[\u001b[49m\u001b[43mchan\u001b[49m\u001b[43m]\u001b[49m\u001b[43m.\u001b[49m\u001b[43mupdate\u001b[49m\u001b[43m(\u001b[49m\u001b[43mvals\u001b[49m\u001b[43m)\u001b[49m \u001b[38;5;129;01mand\u001b[39;00m next_version \u001b[38;5;129;01mis\u001b[39;00m \u001b[38;5;129;01mnot\u001b[39;00m \u001b[38;5;28;01mNone\u001b[39;00m:\n\u001b[32m    296\u001b[39m             checkpoint[\u001b[33m\"\u001b[39m\u001b[33mchannel_versions\u001b[39m\u001b[33m\"\u001b[39m][chan] = next_version\n\u001b[32m    297\u001b[39m             \u001b[38;5;66;03m# unavailable channels can't trigger tasks, so don't add them\u001b[39;00m\n",
      "\u001b[36mFile \u001b[39m\u001b[32m/opt/homebrew/lib/python3.11/site-packages/langgraph/channels/binop.py:93\u001b[39m, in \u001b[36mBinaryOperatorAggregate.update\u001b[39m\u001b[34m(self, values)\u001b[39m\n\u001b[32m     91\u001b[39m     values = values[\u001b[32m1\u001b[39m:]\n\u001b[32m     92\u001b[39m \u001b[38;5;28;01mfor\u001b[39;00m value \u001b[38;5;129;01min\u001b[39;00m values:\n\u001b[32m---> \u001b[39m\u001b[32m93\u001b[39m     \u001b[38;5;28mself\u001b[39m.value = \u001b[38;5;28;43mself\u001b[39;49m\u001b[43m.\u001b[49m\u001b[43moperator\u001b[49m\u001b[43m(\u001b[49m\u001b[38;5;28;43mself\u001b[39;49m\u001b[43m.\u001b[49m\u001b[43mvalue\u001b[49m\u001b[43m,\u001b[49m\u001b[43m \u001b[49m\u001b[43mvalue\u001b[49m\u001b[43m)\u001b[49m\n\u001b[32m     94\u001b[39m \u001b[38;5;28;01mreturn\u001b[39;00m \u001b[38;5;28;01mTrue\u001b[39;00m\n",
      "\u001b[36mFile \u001b[39m\u001b[32m/opt/homebrew/lib/python3.11/site-packages/langgraph/graph/message.py:47\u001b[39m, in \u001b[36m_add_messages_wrapper.<locals>._add_messages\u001b[39m\u001b[34m(left, right, **kwargs)\u001b[39m\n\u001b[32m     43\u001b[39m \u001b[38;5;28;01mdef\u001b[39;00m\u001b[38;5;250m \u001b[39m\u001b[34m_add_messages\u001b[39m(\n\u001b[32m     44\u001b[39m     left: Messages | \u001b[38;5;28;01mNone\u001b[39;00m = \u001b[38;5;28;01mNone\u001b[39;00m, right: Messages | \u001b[38;5;28;01mNone\u001b[39;00m = \u001b[38;5;28;01mNone\u001b[39;00m, **kwargs: Any\n\u001b[32m     45\u001b[39m ) -> Messages | Callable[[Messages, Messages], Messages]:\n\u001b[32m     46\u001b[39m     \u001b[38;5;28;01mif\u001b[39;00m left \u001b[38;5;129;01mis\u001b[39;00m \u001b[38;5;129;01mnot\u001b[39;00m \u001b[38;5;28;01mNone\u001b[39;00m \u001b[38;5;129;01mand\u001b[39;00m right \u001b[38;5;129;01mis\u001b[39;00m \u001b[38;5;129;01mnot\u001b[39;00m \u001b[38;5;28;01mNone\u001b[39;00m:\n\u001b[32m---> \u001b[39m\u001b[32m47\u001b[39m         \u001b[38;5;28;01mreturn\u001b[39;00m \u001b[43mfunc\u001b[49m\u001b[43m(\u001b[49m\u001b[43mleft\u001b[49m\u001b[43m,\u001b[49m\u001b[43m \u001b[49m\u001b[43mright\u001b[49m\u001b[43m,\u001b[49m\u001b[43m \u001b[49m\u001b[43m*\u001b[49m\u001b[43m*\u001b[49m\u001b[43mkwargs\u001b[49m\u001b[43m)\u001b[49m\n\u001b[32m     48\u001b[39m     \u001b[38;5;28;01melif\u001b[39;00m left \u001b[38;5;129;01mis\u001b[39;00m \u001b[38;5;129;01mnot\u001b[39;00m \u001b[38;5;28;01mNone\u001b[39;00m \u001b[38;5;129;01mor\u001b[39;00m right \u001b[38;5;129;01mis\u001b[39;00m \u001b[38;5;129;01mnot\u001b[39;00m \u001b[38;5;28;01mNone\u001b[39;00m:\n\u001b[32m     49\u001b[39m         msg = (\n\u001b[32m     50\u001b[39m             \u001b[33mf\u001b[39m\u001b[33m\"\u001b[39m\u001b[33mMust specify non-null arguments for both \u001b[39m\u001b[33m'\u001b[39m\u001b[33mleft\u001b[39m\u001b[33m'\u001b[39m\u001b[33m and \u001b[39m\u001b[33m'\u001b[39m\u001b[33mright\u001b[39m\u001b[33m'\u001b[39m\u001b[33m. Only \u001b[39m\u001b[33m\"\u001b[39m\n\u001b[32m     51\u001b[39m             \u001b[33mf\u001b[39m\u001b[33m\"\u001b[39m\u001b[33mreceived: \u001b[39m\u001b[33m'\u001b[39m\u001b[38;5;132;01m{\u001b[39;00m\u001b[33m'\u001b[39m\u001b[33mleft\u001b[39m\u001b[33m'\u001b[39m\u001b[38;5;250m \u001b[39m\u001b[38;5;28;01mif\u001b[39;00m\u001b[38;5;250m \u001b[39mleft\u001b[38;5;250m \u001b[39m\u001b[38;5;28;01melse\u001b[39;00m\u001b[38;5;250m \u001b[39m\u001b[33m'\u001b[39m\u001b[33mright\u001b[39m\u001b[33m'\u001b[39m\u001b[38;5;132;01m}\u001b[39;00m\u001b[33m'\u001b[39m\u001b[33m.\u001b[39m\u001b[33m\"\u001b[39m\n\u001b[32m     52\u001b[39m         )\n",
      "\u001b[36mFile \u001b[39m\u001b[32m/opt/homebrew/lib/python3.11/site-packages/langgraph/graph/message.py:198\u001b[39m, in \u001b[36madd_messages\u001b[39m\u001b[34m(left, right, format)\u001b[39m\n\u001b[32m    191\u001b[39m \u001b[38;5;66;03m# coerce to message\u001b[39;00m\n\u001b[32m    192\u001b[39m left = [\n\u001b[32m    193\u001b[39m     message_chunk_to_message(cast(BaseMessageChunk, m))\n\u001b[32m    194\u001b[39m     \u001b[38;5;28;01mfor\u001b[39;00m m \u001b[38;5;129;01min\u001b[39;00m convert_to_messages(left)\n\u001b[32m    195\u001b[39m ]\n\u001b[32m    196\u001b[39m right = [\n\u001b[32m    197\u001b[39m     message_chunk_to_message(cast(BaseMessageChunk, m))\n\u001b[32m--> \u001b[39m\u001b[32m198\u001b[39m     \u001b[38;5;28;01mfor\u001b[39;00m m \u001b[38;5;129;01min\u001b[39;00m \u001b[43mconvert_to_messages\u001b[49m\u001b[43m(\u001b[49m\u001b[43mright\u001b[49m\u001b[43m)\u001b[49m\n\u001b[32m    199\u001b[39m ]\n\u001b[32m    200\u001b[39m \u001b[38;5;66;03m# assign missing ids\u001b[39;00m\n\u001b[32m    201\u001b[39m \u001b[38;5;28;01mfor\u001b[39;00m m \u001b[38;5;129;01min\u001b[39;00m left:\n",
      "\u001b[36mFile \u001b[39m\u001b[32m/opt/homebrew/lib/python3.11/site-packages/langchain_core/messages/utils.py:382\u001b[39m, in \u001b[36mconvert_to_messages\u001b[39m\u001b[34m(messages)\u001b[39m\n\u001b[32m    380\u001b[39m \u001b[38;5;28;01mif\u001b[39;00m \u001b[38;5;28misinstance\u001b[39m(messages, PromptValue):\n\u001b[32m    381\u001b[39m     \u001b[38;5;28;01mreturn\u001b[39;00m messages.to_messages()\n\u001b[32m--> \u001b[39m\u001b[32m382\u001b[39m \u001b[38;5;28;01mreturn\u001b[39;00m \u001b[43m[\u001b[49m\u001b[43m_convert_to_message\u001b[49m\u001b[43m(\u001b[49m\u001b[43mm\u001b[49m\u001b[43m)\u001b[49m\u001b[43m \u001b[49m\u001b[38;5;28;43;01mfor\u001b[39;49;00m\u001b[43m \u001b[49m\u001b[43mm\u001b[49m\u001b[43m \u001b[49m\u001b[38;5;129;43;01min\u001b[39;49;00m\u001b[43m \u001b[49m\u001b[43mmessages\u001b[49m\u001b[43m]\u001b[49m\n",
      "\u001b[36mFile \u001b[39m\u001b[32m/opt/homebrew/lib/python3.11/site-packages/langchain_core/messages/utils.py:382\u001b[39m, in \u001b[36m<listcomp>\u001b[39m\u001b[34m(.0)\u001b[39m\n\u001b[32m    380\u001b[39m \u001b[38;5;28;01mif\u001b[39;00m \u001b[38;5;28misinstance\u001b[39m(messages, PromptValue):\n\u001b[32m    381\u001b[39m     \u001b[38;5;28;01mreturn\u001b[39;00m messages.to_messages()\n\u001b[32m--> \u001b[39m\u001b[32m382\u001b[39m \u001b[38;5;28;01mreturn\u001b[39;00m [\u001b[43m_convert_to_message\u001b[49m\u001b[43m(\u001b[49m\u001b[43mm\u001b[49m\u001b[43m)\u001b[49m \u001b[38;5;28;01mfor\u001b[39;00m m \u001b[38;5;129;01min\u001b[39;00m messages]\n",
      "\u001b[36mFile \u001b[39m\u001b[32m/opt/homebrew/lib/python3.11/site-packages/langchain_core/messages/utils.py:360\u001b[39m, in \u001b[36m_convert_to_message\u001b[39m\u001b[34m(message)\u001b[39m\n\u001b[32m    358\u001b[39m     msg = \u001b[33mf\u001b[39m\u001b[33m\"\u001b[39m\u001b[33mUnsupported message type: \u001b[39m\u001b[38;5;132;01m{\u001b[39;00m\u001b[38;5;28mtype\u001b[39m(message)\u001b[38;5;132;01m}\u001b[39;00m\u001b[33m\"\u001b[39m\n\u001b[32m    359\u001b[39m     msg = create_message(message=msg, error_code=ErrorCode.MESSAGE_COERCION_FAILURE)\n\u001b[32m--> \u001b[39m\u001b[32m360\u001b[39m     \u001b[38;5;28;01mraise\u001b[39;00m \u001b[38;5;167;01mNotImplementedError\u001b[39;00m(msg)\n\u001b[32m    362\u001b[39m \u001b[38;5;28;01mreturn\u001b[39;00m message_\n",
      "\u001b[31mNotImplementedError\u001b[39m: Unsupported message type: <class 'list'>\nFor troubleshooting, visit: https://python.langchain.com/docs/troubleshooting/errors/MESSAGE_COERCION_FAILURE "
     ]
    }
   ],
   "source": [
    "from langchain_core.messages import AIMessage\n",
    "state = None\n",
    "\n",
    "while True:\n",
    "    in_message = input(\"You: \")\n",
    "    if in_message == \"exit\":\n",
    "        break\n",
    "    if state is None:\n",
    "        state = {\"messages\": [{\"role\": \"user\", \"content\": in_message}]}\n",
    "    else:\n",
    "        state[\"messages\"].append([{\"role\": \"user\", \"content\": in_message}])\n",
    "    # invoke the graph\n",
    "    response = graph.invoke(state)\n",
    "\n",
    "    # update state with model's reply (add_messages will merge correctly)\n",
    "    state = response\n",
    "\n",
    "    # print the assistant's reply\n",
    "    last_msg = response[\"messages\"][-1]\n",
    "    if isinstance(last_msg, AIMessage):\n",
    "        print(f\"Bot: {last_msg.content}\")\n",
    "    else:\n",
    "        print(f\"Bot: {last_msg['content']}\")\n",
    "\n"
   ]
  },
  {
   "cell_type": "code",
   "execution_count": 9,
   "id": "77647a1c",
   "metadata": {},
   "outputs": [
    {
     "name": "stdout",
     "output_type": "stream",
     "text": [
      "Note: you may need to restart the kernel to use updated packages.\n"
     ]
    }
   ],
   "source": [
    "%pip install -qU semantic-router\n"
   ]
  },
  {
   "cell_type": "code",
   "execution_count": 2,
   "id": "e95dc5c1",
   "metadata": {},
   "outputs": [
    {
     "name": "stderr",
     "output_type": "stream",
     "text": [
      "/opt/homebrew/lib/python3.11/site-packages/tqdm/auto.py:21: TqdmWarning: IProgress not found. Please update jupyter and ipywidgets. See https://ipywidgets.readthedocs.io/en/stable/user_install.html\n",
      "  from .autonotebook import tqdm as notebook_tqdm\n"
     ]
    }
   ],
   "source": [
    "from semantic_router.encoders import OpenAIEncoder\n",
    "\n",
    "\n"
   ]
  },
  {
   "cell_type": "code",
   "execution_count": null,
   "id": "97ca5575",
   "metadata": {},
   "outputs": [
    {
     "name": "stderr",
     "output_type": "stream",
     "text": [
      "/opt/homebrew/lib/python3.11/site-packages/tqdm/auto.py:21: TqdmWarning: IProgress not found. Please update jupyter and ipywidgets. See https://ipywidgets.readthedocs.io/en/stable/user_install.html\n",
      "  from .autonotebook import tqdm as notebook_tqdm\n"
     ]
    },
    {
     "ename": "NameError",
     "evalue": "name 'Route' is not defined",
     "output_type": "error",
     "traceback": [
      "\u001b[31m---------------------------------------------------------------------------\u001b[39m",
      "\u001b[31mNameError\u001b[39m                                 Traceback (most recent call last)",
      "\u001b[36mCell\u001b[39m\u001b[36m \u001b[39m\u001b[32mIn[10]\u001b[39m\u001b[32m, line 4\u001b[39m\n\u001b[32m      1\u001b[39m \u001b[38;5;28;01mfrom\u001b[39;00m\u001b[38;5;250m \u001b[39m\u001b[34;01msemantic_router\u001b[39;00m\u001b[34;01m.\u001b[39;00m\u001b[34;01mencoders\u001b[39;00m\u001b[38;5;250m \u001b[39m\u001b[38;5;28;01mimport\u001b[39;00m OpenAIEncoder  \u001b[38;5;66;03m# can also use HuggingFace\u001b[39;00m\n\u001b[32m      2\u001b[39m \u001b[38;5;66;03m# ---- Define routes ----\u001b[39;00m\n\u001b[32m      3\u001b[39m routes = [\n\u001b[32m----> \u001b[39m\u001b[32m4\u001b[39m     \u001b[43mRoute\u001b[49m(name=\u001b[33m\"\u001b[39m\u001b[33mchatbot_node\u001b[39m\u001b[33m\"\u001b[39m, utterances=[\n\u001b[32m      5\u001b[39m         \u001b[33m\"\u001b[39m\u001b[33mhi\u001b[39m\u001b[33m\"\u001b[39m, \u001b[33m\"\u001b[39m\u001b[33mhello\u001b[39m\u001b[33m\"\u001b[39m, \u001b[33m\"\u001b[39m\u001b[33mhow are you\u001b[39m\u001b[33m\"\u001b[39m, \u001b[33m\"\u001b[39m\u001b[33mgeneral conversation\u001b[39m\u001b[33m\"\u001b[39m\n\u001b[32m      6\u001b[39m     ]),\n\u001b[32m      7\u001b[39m     Route(name=\u001b[33m\"\u001b[39m\u001b[33mflight_pipeline_node\u001b[39m\u001b[33m\"\u001b[39m, utterances=[\n\u001b[32m      8\u001b[39m         \u001b[33m\"\u001b[39m\u001b[33mbook me a flight\u001b[39m\u001b[33m\"\u001b[39m, \u001b[33m\"\u001b[39m\u001b[33mfind flights\u001b[39m\u001b[33m\"\u001b[39m, \u001b[33m\"\u001b[39m\u001b[33mplane ticket\u001b[39m\u001b[33m\"\u001b[39m, \u001b[33m\"\u001b[39m\u001b[33mtravel to NYC\u001b[39m\u001b[33m\"\u001b[39m\n\u001b[32m      9\u001b[39m     ]),\n\u001b[32m     10\u001b[39m ]\n\u001b[32m     12\u001b[39m \u001b[38;5;66;03m# ---- Initialize encoder & router ----\u001b[39;00m\n\u001b[32m     13\u001b[39m encoder = OpenAIEncoder()   \u001b[38;5;66;03m# requires OPENAI_API_KEY env var\u001b[39;00m\n",
      "\u001b[31mNameError\u001b[39m: name 'Route' is not defined"
     ]
    }
   ],
   "source": [
    "from semantic_router.encoders import OpenAIEncoder  # can also use HuggingFace\n",
    "# ---- Define routes ----\n",
    "routes = [\n",
    "    Route(name=\"chatbot_node\", utterances=[\n",
    "        \"hi\", \"hello\", \"how are you\", \"general conversation\"\n",
    "    ]),\n",
    "    Route(name=\"flight_pipeline_node\", utterances=[\n",
    "        \"book me a flight\", \"find flights\", \"plane ticket\", \"flight booking\"\n",
    "    ]),\n",
    "]\n",
    "\n",
    "# ---- Initialize encoder & router ----\n",
    "encoder = OpenAIEncoder(api_key=)   # requires OPENAI_API_KEY env var\n",
    "route_layer = RouteLayer(encoder=encoder, routes=routes)\n",
    "\n",
    "# ---- Router node for LangGraph ----\n",
    "def semantic_router_node(state: State):\n",
    "    user_msg = state[\"messages\"][-1][\"content\"]\n",
    "    chosen_route = route_layer(user_msg).name\n",
    "    return {\"next\": chosen_route}"
   ]
  },
  {
   "cell_type": "code",
   "execution_count": null,
   "id": "6a6e4f8d",
   "metadata": {},
   "outputs": [],
   "source": [
    "'''\n",
    "Agent Structure:\n",
    "\n",
    "Nodes:\n",
    "- User\n",
    "- AirBnB\n",
    "- Hotel\n",
    "- Tavily\n",
    "- Google Flights\n",
    "- Google Hotels\n",
    "- Google Attractions\n",
    "\n",
    "\n",
    "AP2! \n",
    "\n",
    "\n",
    "\n",
    "'''"
   ]
  },
  {
   "cell_type": "code",
   "execution_count": null,
   "id": "9b90d32a",
   "metadata": {},
   "outputs": [
    {
     "name": "stdout",
     "output_type": "stream",
     "text": [
      "Alaska AS 717: OAK → SEA at 2025-11-07 06:30\n",
      "Alaska AS 477: SEA → EWR at 2025-11-07 10:05\n",
      "Delta DL 3903: OAK → SLC at 2025-11-07 16:51\n",
      "Delta DL 2038: SLC → EWR at 2025-11-07 23:25\n",
      "Alaska AS 1359: OAK → SEA at 2025-11-07 14:49\n",
      "Alaska AS 314: SEA → EWR at 2025-11-07 21:34\n",
      "Delta DL 4061: OAK → SLC at 2025-11-07 05:55\n",
      "Delta DL 2026: SLC → EWR at 2025-11-07 11:30\n"
     ]
    }
   ],
   "source": [
    "import requests\n",
    "\n",
    "API_KEY = \n",
    "\n",
    "params = {\n",
    "    \"engine\": \"google_flights\",\n",
    "    \"departure_id\": \"OAK\",       # origin airport\n",
    "    \"arrival_id\": \"EWR\",         # destination airport\n",
    "    \"outbound_date\": \"2025-11-07\",\n",
    "    \"return_date\": \"2025-11-14\", # optional, remove for one-way\n",
    "    \"currency\": \"USD\",\n",
    "    \"hl\": \"en\",\n",
    "    \"gl\": \"us\",\n",
    "    \"api_key\": API_KEY\n",
    "}\n",
    "\n",
    "url = \"https://serpapi.com/search\"\n",
    "response = requests.get(url, params=params)\n",
    "data = response.json()\n",
    "\n",
    "# Print some results\n",
    "for option in data.get(\"best_flights\", []):\n",
    "    for leg in option[\"flights\"]:\n",
    "        airline = leg[\"airline\"]\n",
    "        flight_no = leg[\"flight_number\"]\n",
    "        dep = leg[\"departure_airport\"][\"id\"]\n",
    "        arr = leg[\"arrival_airport\"][\"id\"]\n",
    "        time = leg[\"departure_airport\"][\"time\"]\n",
    "        print(f\"{airline} {flight_no}: {dep} → {arr} at {time}\")\n"
   ]
  },
  {
   "cell_type": "code",
   "execution_count": 22,
   "id": "75eb20b7",
   "metadata": {},
   "outputs": [
    {
     "data": {
      "text/plain": [
       "{'error': '`return_date` is required if `type` is `1` (Round trip).'}"
      ]
     },
     "execution_count": 22,
     "metadata": {},
     "output_type": "execute_result"
    }
   ],
   "source": [
    "data"
   ]
  },
  {
   "cell_type": "code",
   "execution_count": 19,
   "id": "f5326c00",
   "metadata": {},
   "outputs": [],
   "source": [
    "def transform_flights(data):\n",
    "    results = []\n",
    "    for f in data.get(\"best_flights\", []):\n",
    "        flight_leg = f[\"flights\"][0]  # main leg (extend if multiple)\n",
    "        \n",
    "        flight_number = flight_leg[\"flight_number\"]\n",
    "        airline = flight_leg[\"airline\"]\n",
    "        aircraft = flight_leg.get(\"airplane\")\n",
    "        origin = flight_leg[\"departure_airport\"]\n",
    "        dest = flight_leg[\"arrival_airport\"]\n",
    "        \n",
    "        structured = {\n",
    "            \"flight\": {\n",
    "                \"id\": f\"{flight_number}_{origin['time'].split()[0]}\",\n",
    "                \"title\": f\"{airline} {flight_number} - {origin['id']} → {dest['id']}\",\n",
    "                \"make\": airline,\n",
    "                \"model\": aircraft,\n",
    "                \"version\": origin[\"time\"].split()[0],\n",
    "                \"body_html\": f\"Flight operated by {airline} from {origin['name']} ({origin['id']}) \"\n",
    "                             f\"to {dest['name']} ({dest['id']}).\",\n",
    "                \"created_at\": data[\"search_metadata\"][\"created_at\"],\n",
    "                \"updated_at\": data[\"search_metadata\"][\"processed_at\"],\n",
    "                \"handle\": f\"{airline.lower()}-{flight_number.lower()}-{origin['id'].lower()}-{dest['id'].lower()}\",\n",
    "                \"image\": {\n",
    "                    \"x\": flight_leg[\"airline_logo\"],\n",
    "                    \"width\": 70,\n",
    "                    \"height\": 70\n",
    "                },\n",
    "                \"options\": {\n",
    "                    \"name\": \"Cabin\",\n",
    "                    \"values\": [flight_leg.get(\"travel_class\", \"Economy\")]\n",
    "                },\n",
    "                \"product_type\": \"Flight\",\n",
    "                \"status\": \"active\",\n",
    "                \"tags\": f\"{airline}, {aircraft}, {origin['id']}→{dest['id']}\",\n",
    "                \"vendor\": airline,\n",
    "                \"vendor_contact\": {},\n",
    "                \"variants\": [\n",
    "                    {\n",
    "                        \"id\": f\"{flight_number}_ECONOMY\",\n",
    "                        \"title\": flight_leg.get(\"travel_class\", \"Economy\"),\n",
    "                        \"price\": f.get(\"price\"),\n",
    "                        \"currency\": data[\"search_parameters\"][\"currency\"],\n",
    "                        \"sku\": f\"{flight_number}-{origin['id']}-{dest['id']}\",\n",
    "                        \"requires_shipping\": False\n",
    "                    }\n",
    "                ],\n",
    "                \"route\": {\n",
    "                    \"origin\": origin,\n",
    "                    \"destination\": dest,\n",
    "                    \"duration_minutes\": f[\"total_duration\"],\n",
    "                    \"non_stop\": not bool(f.get(\"layovers\")),\n",
    "                    \"layovers\": f.get(\"layovers\", [])\n",
    "                },\n",
    "                \"extras\": {\n",
    "                    \"legroom\": flight_leg.get(\"legroom\"),\n",
    "                    \"amenities\": flight_leg.get(\"extensions\", []),\n",
    "                    \"carbon_emissions_kg\": f[\"carbon_emissions\"][\"this_flight\"] // 1000\n",
    "                }\n",
    "            }\n",
    "        }\n",
    "        results.append(structured)\n",
    "    return results\n"
   ]
  },
  {
   "cell_type": "code",
   "execution_count": 30,
   "id": "bde8512e",
   "metadata": {},
   "outputs": [],
   "source": [
    "# load transform_flights as a json\n",
    "\n",
    "import json\n",
    "flights_json = json.dumps(transform_flights(data))\n",
    "\n",
    "\n",
    "\n"
   ]
  },
  {
   "cell_type": "code",
   "execution_count": 31,
   "id": "12d31fc3",
   "metadata": {},
   "outputs": [
    {
     "data": {
      "text/plain": [
       "'[{\"flight\": {\"id\": \"AS 717_2025-11-07\", \"title\": \"Alaska AS 717 - OAK \\\\u2192 SEA\", \"make\": \"Alaska\", \"model\": \"Boeing 737\", \"version\": \"2025-11-07\", \"body_html\": \"Flight operated by Alaska from Oakland International Airport (OAK) to Seattle\\\\u2013Tacoma International Airport (SEA).\", \"created_at\": \"2025-09-30 08:43:43 UTC\", \"updated_at\": \"2025-09-30 08:43:43 UTC\", \"handle\": \"alaska-as 717-oak-sea\", \"image\": {\"x\": \"https://www.gstatic.com/flights/airline_logos/70px/AS.png\", \"width\": 70, \"height\": 70}, \"options\": {\"name\": \"Cabin\", \"values\": [\"Economy\"]}, \"product_type\": \"Flight\", \"status\": \"active\", \"tags\": \"Alaska, Boeing 737, OAK\\\\u2192SEA\", \"vendor\": \"Alaska\", \"vendor_contact\": {}, \"variants\": [{\"id\": \"AS 717_ECONOMY\", \"title\": \"Economy\", \"price\": 402, \"currency\": \"USD\", \"sku\": \"AS 717-OAK-SEA\", \"requires_shipping\": false}], \"route\": {\"origin\": {\"name\": \"Oakland International Airport\", \"id\": \"OAK\", \"time\": \"2025-11-07 06:30\"}, \"destination\": {\"name\": \"Seattle\\\\u2013Tacoma International Airport\", \"id\": \"SEA\", \"time\": \"2025-11-07 08:39\"}, \"duration_minutes\": 539, \"non_stop\": false, \"layovers\": [{\"duration\": 86, \"name\": \"Seattle\\\\u2013Tacoma International Airport\", \"id\": \"SEA\"}]}, \"extras\": {\"legroom\": \"31 in\", \"amenities\": [\"Average legroom (31 in)\", \"Wi-Fi for a fee\", \"In-seat power & USB outlets\", \"Stream media to your device\", \"Carbon emissions estimate: 159 kg\"], \"carbon_emissions_kg\": 450}}}, {\"flight\": {\"id\": \"DL 3903_2025-11-07\", \"title\": \"Delta DL 3903 - OAK \\\\u2192 SLC\", \"make\": \"Delta\", \"model\": \"Embraer 175\", \"version\": \"2025-11-07\", \"body_html\": \"Flight operated by Delta from Oakland International Airport (OAK) to Salt Lake City International Airport (SLC).\", \"created_at\": \"2025-09-30 08:43:43 UTC\", \"updated_at\": \"2025-09-30 08:43:43 UTC\", \"handle\": \"delta-dl 3903-oak-slc\", \"image\": {\"x\": \"https://www.gstatic.com/flights/airline_logos/70px/DL.png\", \"width\": 70, \"height\": 70}, \"options\": {\"name\": \"Cabin\", \"values\": [\"Economy\"]}, \"product_type\": \"Flight\", \"status\": \"active\", \"tags\": \"Delta, Embraer 175, OAK\\\\u2192SLC\", \"vendor\": \"Delta\", \"vendor_contact\": {}, \"variants\": [{\"id\": \"DL 3903_ECONOMY\", \"title\": \"Economy\", \"price\": 477, \"currency\": \"USD\", \"sku\": \"DL 3903-OAK-SLC\", \"requires_shipping\": false}], \"route\": {\"origin\": {\"name\": \"Oakland International Airport\", \"id\": \"OAK\", \"time\": \"2025-11-07 16:51\"}, \"destination\": {\"name\": \"Salt Lake City International Airport\", \"id\": \"SLC\", \"time\": \"2025-11-07 19:44\"}, \"duration_minutes\": 585, \"non_stop\": false, \"layovers\": [{\"duration\": 221, \"name\": \"Salt Lake City International Airport\", \"id\": \"SLC\"}]}, \"extras\": {\"legroom\": \"32 in\", \"amenities\": [\"Above average legroom (32 in)\", \"Wi-Fi for a fee\", \"In-seat power & USB outlets\", \"Carbon emissions estimate: 154 kg\"], \"carbon_emissions_kg\": 368}}}, {\"flight\": {\"id\": \"AS 1359_2025-11-07\", \"title\": \"Alaska AS 1359 - OAK \\\\u2192 SEA\", \"make\": \"Alaska\", \"model\": \"Boeing 737\", \"version\": \"2025-11-07\", \"body_html\": \"Flight operated by Alaska from Oakland International Airport (OAK) to Seattle\\\\u2013Tacoma International Airport (SEA).\", \"created_at\": \"2025-09-30 08:43:43 UTC\", \"updated_at\": \"2025-09-30 08:43:43 UTC\", \"handle\": \"alaska-as 1359-oak-sea\", \"image\": {\"x\": \"https://www.gstatic.com/flights/airline_logos/70px/AS.png\", \"width\": 70, \"height\": 70}, \"options\": {\"name\": \"Cabin\", \"values\": [\"Economy\"]}, \"product_type\": \"Flight\", \"status\": \"active\", \"tags\": \"Alaska, Boeing 737, OAK\\\\u2192SEA\", \"vendor\": \"Alaska\", \"vendor_contact\": {}, \"variants\": [{\"id\": \"AS 1359_ECONOMY\", \"title\": \"Economy\", \"price\": 512, \"currency\": \"USD\", \"sku\": \"AS 1359-OAK-SEA\", \"requires_shipping\": false}], \"route\": {\"origin\": {\"name\": \"Oakland International Airport\", \"id\": \"OAK\", \"time\": \"2025-11-07 14:49\"}, \"destination\": {\"name\": \"Seattle\\\\u2013Tacoma International Airport\", \"id\": \"SEA\", \"time\": \"2025-11-07 16:57\"}, \"duration_minutes\": 730, \"non_stop\": false, \"layovers\": [{\"duration\": 277, \"name\": \"Seattle\\\\u2013Tacoma International Airport\", \"id\": \"SEA\"}]}, \"extras\": {\"legroom\": \"31 in\", \"amenities\": [\"Average legroom (31 in)\", \"Wi-Fi for a fee\", \"In-seat power & USB outlets\", \"Stream media to your device\", \"Carbon emissions estimate: 124 kg\"], \"carbon_emissions_kg\": 374}}}, {\"flight\": {\"id\": \"DL 4061_2025-11-07\", \"title\": \"Delta DL 4061 - OAK \\\\u2192 SLC\", \"make\": \"Delta\", \"model\": \"Embraer 175\", \"version\": \"2025-11-07\", \"body_html\": \"Flight operated by Delta from Oakland International Airport (OAK) to Salt Lake City International Airport (SLC).\", \"created_at\": \"2025-09-30 08:43:43 UTC\", \"updated_at\": \"2025-09-30 08:43:43 UTC\", \"handle\": \"delta-dl 4061-oak-slc\", \"image\": {\"x\": \"https://www.gstatic.com/flights/airline_logos/70px/DL.png\", \"width\": 70, \"height\": 70}, \"options\": {\"name\": \"Cabin\", \"values\": [\"Economy\"]}, \"product_type\": \"Flight\", \"status\": \"active\", \"tags\": \"Delta, Embraer 175, OAK\\\\u2192SLC\", \"vendor\": \"Delta\", \"vendor_contact\": {}, \"variants\": [{\"id\": \"DL 4061_ECONOMY\", \"title\": \"Economy\", \"price\": 658, \"currency\": \"USD\", \"sku\": \"DL 4061-OAK-SLC\", \"requires_shipping\": false}], \"route\": {\"origin\": {\"name\": \"Oakland International Airport\", \"id\": \"OAK\", \"time\": \"2025-11-07 05:55\"}, \"destination\": {\"name\": \"Salt Lake City International Airport\", \"id\": \"SLC\", \"time\": \"2025-11-07 08:52\"}, \"duration_minutes\": 530, \"non_stop\": false, \"layovers\": [{\"duration\": 158, \"name\": \"Salt Lake City International Airport\", \"id\": \"SLC\"}]}, \"extras\": {\"legroom\": \"31 in\", \"amenities\": [\"Average legroom (31 in)\", \"Wi-Fi for a fee\", \"In-seat power outlet\", \"Carbon emissions estimate: 142 kg\"], \"carbon_emissions_kg\": 357}}}]'"
      ]
     },
     "execution_count": 31,
     "metadata": {},
     "output_type": "execute_result"
    }
   ],
   "source": [
    "flights_json"
   ]
  },
  {
   "cell_type": "code",
   "execution_count": null,
   "id": "4513f7f8",
   "metadata": {},
   "outputs": [],
   "source": []
  },
  {
   "cell_type": "code",
   "execution_count": 32,
   "id": "7ac1f1cb",
   "metadata": {},
   "outputs": [],
   "source": [
    "import json\n",
    "\n",
    "# import the flight.json file\n",
    "with open('/Users/aryanpanda/194/src/flight.json', 'r') as f:\n",
    "    flight_json = json.load(f)\n",
    "\n",
    "\n"
   ]
  },
  {
   "cell_type": "code",
   "execution_count": null,
   "id": "f0f822e5",
   "metadata": {},
   "outputs": [
    {
     "name": "stdout",
     "output_type": "stream",
     "text": [
      "Message(id='msg_012GQ2BE6TWqvkNV9BXt1zBA', content=[ToolUseBlock(id='toolu_01WDasUjpD8joeqfHxDi2Jua', input={'origin': 'OAK', 'destination': 'SLC', 'flight_date': '2025-11-07', 'flight_price': 658, 'selection_reason': 'Most expensive flight in the dataset'}, name='get_flight_info', type='tool_use')], model='claude-sonnet-4-5-20250929', role='assistant', stop_reason='tool_use', stop_sequence=None, type='message', usage=Usage(cache_creation=CacheCreation(ephemeral_1h_input_tokens=0, ephemeral_5m_input_tokens=0), cache_creation_input_tokens=0, cache_read_input_tokens=0, input_tokens=3230, output_tokens=120, server_tool_use=None, service_tier='standard'))\n"
     ]
    }
   ],
   "source": [
    "import anthropic\n",
    "\n",
    "# flights_json is the source data (already created in previous cells)\n",
    "# flight_json is the tool call schema (already loaded in previous cells)\n",
    "\n",
    "client = anthropic.Anthropic(api_key=\"YOUR_ANTHROPIC_API_KEY\")\n",
    "response = client.messages.create(\n",
    "    model=\"claude-sonnet-4-5\",\n",
    "    max_tokens=1024,\n",
    "    tools=[\n",
    "        {\n",
    "            \"name\": \"get_flight_info\",\n",
    "            \"description\": \"Find me the most expensive flight\",\n",
    "            \"input_schema\": flight_json,\n",
    "        }\n",
    "    ],\n",
    "    tool_choice={\"type\": \"tool\", \"name\": \"get_flight_info\"},  # force use\n",
    "    messages=[\n",
    "        {\n",
    "            \"role\": \"user\",\n",
    "            \"content\": [\n",
    "                {\n",
    "                    \"type\": \"text\",\n",
    "                    \"text\": \"From the dataset, call the tool ONCE based on the context of the tool call\"\n",
    "                },\n",
    "                {\n",
    "                    \"type\": \"document\",\n",
    "                    \"source\": {\n",
    "                        \"type\": \"content\",\n",
    "                        \"content\": json.dumps(flights_json, indent=2)  # stringify your JSON\n",
    "                    },\n",
    "                    \"title\": \"flights.json\"\n",
    "                }\n",
    "            ]\n",
    "        }\n",
    "    ],\n",
    ")\n",
    "\n",
    "print(response)"
   ]
  },
  {
   "cell_type": "code",
   "execution_count": 5,
   "id": "f65d4e5e",
   "metadata": {},
   "outputs": [
    {
     "name": "stdout",
     "output_type": "stream",
     "text": [
      "Collecting geopy\n",
      "  Downloading geopy-2.4.1-py3-none-any.whl.metadata (6.8 kB)\n",
      "Collecting geographiclib<3,>=1.52 (from geopy)\n",
      "  Downloading geographiclib-2.1-py3-none-any.whl.metadata (1.6 kB)\n",
      "Downloading geopy-2.4.1-py3-none-any.whl (125 kB)\n",
      "\u001b[2K   \u001b[90m━━━━━━━━━━━━━━━━━━━━━━━━━━━━━━━━━━━━━━━━\u001b[0m \u001b[32m125.4/125.4 kB\u001b[0m \u001b[31m1.4 MB/s\u001b[0m eta \u001b[36m0:00:00\u001b[0m \u001b[36m0:00:01\u001b[0m\n",
      "\u001b[?25hDownloading geographiclib-2.1-py3-none-any.whl (40 kB)\n",
      "\u001b[2K   \u001b[90m━━━━━━━━━━━━━━━━━━━━━━━━━━━━━━━━━━━━━━━━\u001b[0m \u001b[32m40.7/40.7 kB\u001b[0m \u001b[31m536.8 kB/s\u001b[0m eta \u001b[36m0:00:00\u001b[0m--:--\u001b[0m\n",
      "\u001b[?25hInstalling collected packages: geographiclib, geopy\n",
      "Successfully installed geographiclib-2.1 geopy-2.4.1\n",
      "\n",
      "\u001b[1m[\u001b[0m\u001b[34;49mnotice\u001b[0m\u001b[1;39;49m]\u001b[0m\u001b[39;49m A new release of pip is available: \u001b[0m\u001b[31;49m24.1.2\u001b[0m\u001b[39;49m -> \u001b[0m\u001b[32;49m25.2\u001b[0m\n",
      "\u001b[1m[\u001b[0m\u001b[34;49mnotice\u001b[0m\u001b[1;39;49m]\u001b[0m\u001b[39;49m To update, run: \u001b[0m\u001b[32;49mpython3.11 -m pip install --upgrade pip\u001b[0m\n",
      "Note: you may need to restart the kernel to use updated packages.\n"
     ]
    }
   ],
   "source": [
    "# AirBnB \n",
    "%pip install geopy"
   ]
  },
  {
   "cell_type": "code",
   "execution_count": 6,
   "id": "00abece8",
   "metadata": {},
   "outputs": [],
   "source": [
    "from geopy.geocoders import Nominatim\n",
    "from geopy.extra.rate_limiter import RateLimiter\n",
    "import geopy\n",
    "\n",
    "def city_country_to_bbox(city: str, country: str):\n",
    "    \"\"\"\n",
    "    Given a city and country in natural language, return a bounding box:\n",
    "    ne_lat, ne_long, sw_lat, sw_long\n",
    "    \"\"\"\n",
    "    geolocator = Nominatim(user_agent=\"city_bbox_mapper\")\n",
    "    geocode = RateLimiter(geolocator.geocode, min_delay_seconds=1)\n",
    "    location = geocode(f\"{city}, {country}\", exactly_one=True)\n",
    "    if not location or not hasattr(location, 'raw') or 'boundingbox' not in location.raw:\n",
    "        raise ValueError(f\"Could not find bounding box for {city}, {country}\")\n",
    "    bbox = location.raw['boundingbox']  # [south_lat, north_lat, west_long, east_long]\n",
    "    sw_lat = float(bbox[0])\n",
    "    ne_lat = float(bbox[1])\n",
    "    sw_long = float(bbox[2])\n",
    "    ne_long = float(bbox[3])\n",
    "    return {\n",
    "        \"ne_lat\": ne_lat,\n",
    "        \"ne_long\": ne_long,\n",
    "        \"sw_lat\": sw_lat,\n",
    "        \"sw_long\": sw_long\n",
    "    }\n"
   ]
  },
  {
   "cell_type": "code",
   "execution_count": 9,
   "id": "c6bb8fc9",
   "metadata": {},
   "outputs": [],
   "source": [
    "locations = city_country_to_bbox(\"San Diego\", \"United States\")"
   ]
  },
  {
   "cell_type": "code",
   "execution_count": 10,
   "id": "1c0f9104",
   "metadata": {},
   "outputs": [
    {
     "data": {
      "text/plain": [
       "{'ne_lat': 33.114194,\n",
       " 'ne_long': -116.9057417,\n",
       " 'sw_lat': 32.5347979,\n",
       " 'sw_long': -117.3098161}"
      ]
     },
     "execution_count": 10,
     "metadata": {},
     "output_type": "execute_result"
    }
   ],
   "source": [
    "locations"
   ]
  },
  {
   "cell_type": "code",
   "execution_count": null,
   "id": "71adc5ae",
   "metadata": {},
   "outputs": [],
   "source": [
    "# create a LLM Agent that will take in what you want to be near into account when fitting location to the bounding box\n",
    "# if places are dispersed find the most central location to events in the city provided by the user\n",
    "# if the user wants to be near a specific place(s), find the most central location to those places\n",
    "# if only a city is provided, find these locations out yourself and centralize\n",
    "\n",
    "\n"
   ]
  },
  {
   "cell_type": "code",
   "execution_count": 15,
   "id": "a0c5dce7",
   "metadata": {},
   "outputs": [],
   "source": [
    "import pyairbnb\n",
    "import json\n",
    "\n",
    "# Define search parameters\n",
    "currency = \"USD\"  # Currency for the search\n",
    "check_in = \"2025-10-01\"  # Check-in date\n",
    "check_out = \"2025-10-04\"  # Check-out date\n",
    "ne_lat = locations[\"ne_lat\"]\n",
    "ne_long = locations[\"ne_long\"]\n",
    "sw_lat = locations[\"sw_lat\"]\n",
    "sw_long = locations[\"sw_long\"]\n",
    "zoom_value = 2  # Zoom level for the map\n",
    "price_min = 1000\n",
    "price_max = 0\n",
    "place_type = \"Private room\" \n",
    "amenities = [4, 7]  # Example: Filter for listings with WiFi and Pool or leave empty\n",
    "free_cancellation = False  # Filter for listings with free/flexible cancellation\n",
    "language = \"us\"\n",
    "proxy_url = \"\"\n",
    "\n",
    "# Search listings within specified coordinates and date range using keyword arguments\n",
    "search_results = pyairbnb.search_all(\n",
    "    check_in=check_in,\n",
    "    check_out=check_out,\n",
    "    ne_lat=ne_lat,\n",
    "    ne_long=ne_long,\n",
    "    sw_lat=sw_lat,\n",
    "    sw_long=sw_long,\n",
    "    zoom_value=zoom_value,\n",
    "    price_min=price_min,\n",
    "    price_max=price_max,\n",
    "    place_type=place_type,\n",
    "    amenities=amenities,\n",
    "    free_cancellation=free_cancellation,\n",
    "    currency=currency,\n",
    "    language=language,\n",
    "    proxy_url=proxy_url\n",
    ")"
   ]
  },
  {
   "cell_type": "code",
   "execution_count": 16,
   "id": "3ff11ac6",
   "metadata": {},
   "outputs": [
    {
     "data": {
      "text/plain": [
       "[{'room_id': 43766201,\n",
       "  'category': '',\n",
       "  'structuredContent': {'__typename': 'ExploreStructuredContent',\n",
       "   'distance': [],\n",
       "   'mapCategoryInfo': None,\n",
       "   'mapPrimaryLine': [{'__typename': 'MainSectionMessage',\n",
       "     'body': '1 sofa bed',\n",
       "     'bodyA11yLabel': None,\n",
       "     'bodyType': None,\n",
       "     'fontWeight': None,\n",
       "     'headline': None,\n",
       "     'type': 'BEDINFO'}],\n",
       "   'mapSecondaryLine': [],\n",
       "   'primaryLine': [{'__typename': 'MainSectionMessage',\n",
       "     'body': '1 sofa bed',\n",
       "     'bodyA11yLabel': None,\n",
       "     'bodyType': None,\n",
       "     'fontWeight': None,\n",
       "     'headline': None,\n",
       "     'type': 'BEDINFO'}],\n",
       "   'secondaryLine': [],\n",
       "   'reviewSnippet': None,\n",
       "   'explanation': []},\n",
       "  'passportData': {'__typename': 'PassportCardData',\n",
       "   'userId': '272376573',\n",
       "   'profilePictureUrl': 'https://a0.muscache.com/im/pictures/user/da2a2c29-ff1e-4843-9c22-327a6a03182f.jpg?aki_policy=profile_x_medium',\n",
       "   'profileLoggingId': None,\n",
       "   'profileA11yLabel': None,\n",
       "   'isVerified': True,\n",
       "   'isSuperhost': False,\n",
       "   'name': 'Xiangyu',\n",
       "   'titleText': 'Host',\n",
       "   'thumbnailUrl': 'https://a0.muscache.com/im/pictures/user/da2a2c29-ff1e-4843-9c22-327a6a03182f.jpg?aki_policy=profile_small',\n",
       "   'stats': [{'__typename': 'HostStat',\n",
       "     'a11yValue': '10 reviews on the listing',\n",
       "     'label': 'Reviews',\n",
       "     'value': '10',\n",
       "     'type': 'REVIEW_COUNT'},\n",
       "    {'__typename': 'HostStat',\n",
       "     'a11yValue': '4.4 out of 5 average rating on the listing',\n",
       "     'label': 'Rating',\n",
       "     'value': '4.4',\n",
       "     'type': 'RATING'},\n",
       "    {'__typename': 'HostStat',\n",
       "     'a11yValue': '6 years of hosting',\n",
       "     'label': 'Years hosting',\n",
       "     'value': '6',\n",
       "     'type': 'YEARS_HOSTING'}],\n",
       "   'timeAsHost': {'__typename': 'TimeAsUser', 'years': 5, 'months': 11},\n",
       "   'ratingCount': 10,\n",
       "   'ratingAverage': 4.4},\n",
       "  'paymentMessages': [],\n",
       "  'kind': '',\n",
       "  'name': 'Garden Family Suite',\n",
       "  'title': 'Room in Del Mar',\n",
       "  'type': '',\n",
       "  'long_stay_discount': {},\n",
       "  'fee': {'airbnb': {}, 'cleaning': {}},\n",
       "  'price': {'unit': {'qualifier': 'for 3 nights',\n",
       "    'curency_symbol': '$',\n",
       "    'amount': 1048.0},\n",
       "   'total': {'currency_symbol': '', 'amount': 0},\n",
       "   'break_down': [{'description': '3 nights x $349.20',\n",
       "     'amount': 1047.0,\n",
       "     'currency': '$.60'}]},\n",
       "  'rating': {'value': 4.4, 'reviewCount': '10'},\n",
       "  'images': [{'url': 'https://a0.muscache.com/im/pictures/67acd9d3-f9b0-4570-84cb-f1930c74beff.jpg'},\n",
       "   {'url': 'https://a0.muscache.com/im/pictures/8bb006fa-f2f5-4da8-a834-f2659d8d7cde.jpg'},\n",
       "   {'url': 'https://a0.muscache.com/im/pictures/02c65868-7bcc-424b-8ccf-fbe29e937095.jpg'},\n",
       "   {'url': 'https://a0.muscache.com/im/pictures/129f46c7-264e-4b5e-adb8-199ec179117a.jpg'},\n",
       "   {'url': 'https://a0.muscache.com/im/pictures/62720e14-19ad-43e3-9c7d-f0b25fc87a1f.jpg'},\n",
       "   {'url': 'https://a0.muscache.com/im/pictures/3d57ec68-fc37-44c8-94b2-1697b3f89868.jpg'}],\n",
       "  'badges': [],\n",
       "  'coordinates': {'latitude': 32.9825, 'longitud': -117.185}},\n",
       " {'room_id': 674225617324686310,\n",
       "  'category': '',\n",
       "  'structuredContent': {'__typename': 'ExploreStructuredContent',\n",
       "   'distance': [],\n",
       "   'mapCategoryInfo': None,\n",
       "   'mapPrimaryLine': [{'__typename': 'MainSectionMessage',\n",
       "     'body': '3 bedrooms',\n",
       "     'bodyA11yLabel': None,\n",
       "     'bodyType': None,\n",
       "     'fontWeight': None,\n",
       "     'headline': None,\n",
       "     'type': 'BEDINFO'},\n",
       "    {'__typename': 'MainSectionMessage',\n",
       "     'body': '3 beds',\n",
       "     'bodyA11yLabel': None,\n",
       "     'bodyType': None,\n",
       "     'fontWeight': None,\n",
       "     'headline': None,\n",
       "     'type': 'BEDINFO'}],\n",
       "   'mapSecondaryLine': [],\n",
       "   'primaryLine': [{'__typename': 'MainSectionMessage',\n",
       "     'body': '3 bedrooms',\n",
       "     'bodyA11yLabel': None,\n",
       "     'bodyType': None,\n",
       "     'fontWeight': None,\n",
       "     'headline': None,\n",
       "     'type': 'BEDINFO'},\n",
       "    {'__typename': 'MainSectionMessage',\n",
       "     'body': '3 beds',\n",
       "     'bodyA11yLabel': None,\n",
       "     'bodyType': None,\n",
       "     'fontWeight': None,\n",
       "     'headline': None,\n",
       "     'type': 'BEDINFO'}],\n",
       "   'secondaryLine': [],\n",
       "   'reviewSnippet': None,\n",
       "   'explanation': []},\n",
       "  'passportData': {'__typename': 'PassportCardData',\n",
       "   'userId': '139316742',\n",
       "   'profilePictureUrl': 'https://a0.muscache.com/im/pictures/user/8fc79c5d-d933-466f-80c4-38bd5f844509.jpg?aki_policy=profile_x_medium',\n",
       "   'profileLoggingId': None,\n",
       "   'profileA11yLabel': None,\n",
       "   'isVerified': True,\n",
       "   'isSuperhost': False,\n",
       "   'name': 'Nick',\n",
       "   'titleText': 'Started hosting in 2022',\n",
       "   'thumbnailUrl': 'https://a0.muscache.com/im/pictures/user/8fc79c5d-d933-466f-80c4-38bd5f844509.jpg?aki_policy=profile_small',\n",
       "   'stats': None,\n",
       "   'timeAsHost': {'__typename': 'TimeAsUser', 'years': 3, 'months': 0},\n",
       "   'ratingCount': None,\n",
       "   'ratingAverage': None},\n",
       "  'paymentMessages': [],\n",
       "  'kind': '',\n",
       "  'name': \"Sunny's home\",\n",
       "  'title': 'Rooms in Lakeside',\n",
       "  'type': '',\n",
       "  'long_stay_discount': {},\n",
       "  'fee': {'airbnb': {}, 'cleaning': {}},\n",
       "  'price': {'unit': {'qualifier': 'for 3 nights',\n",
       "    'curency_symbol': '$',\n",
       "    'amount': 5136.0},\n",
       "   'total': {'currency_symbol': '', 'amount': 0},\n",
       "   'break_down': [{'description': '3 nights x $1,711.77',\n",
       "     'amount': 5135.0,\n",
       "     'currency': '$.30'}]},\n",
       "  'rating': {'value': 0, 'reviewCount': 0},\n",
       "  'images': [{'url': 'https://a0.muscache.com/im/pictures/miso/Hosting-674225617324686310/original/94a8bbda-7e37-4a6b-bc70-3d2bc8377cdd.jpeg'},\n",
       "   {'url': 'https://a0.muscache.com/im/pictures/miso/Hosting-674225617324686310/original/65c05507-bc1b-4e27-bc69-36511e70ce12.jpeg'},\n",
       "   {'url': 'https://a0.muscache.com/im/pictures/miso/Hosting-674225617324686310/original/aa9b9159-2a04-473f-ad7c-b5f40de15e3c.jpeg'},\n",
       "   {'url': 'https://a0.muscache.com/im/pictures/miso/Hosting-674225617324686310/original/cb08b230-8633-4e3b-b71e-e61d35a1c8d9.jpeg'},\n",
       "   {'url': 'https://a0.muscache.com/im/pictures/miso/Hosting-674225617324686310/original/a1933b2b-e3f2-45d2-9cac-a977be66670e.jpeg'},\n",
       "   {'url': 'https://a0.muscache.com/im/pictures/miso/Hosting-674225617324686310/original/0318a705-7a50-435c-8be8-b7d0e28c8172.jpeg'}],\n",
       "  'badges': [],\n",
       "  'coordinates': {'latitude': 32.913, 'longitud': -116.9155}}]"
      ]
     },
     "execution_count": 16,
     "metadata": {},
     "output_type": "execute_result"
    }
   ],
   "source": [
    "search_results"
   ]
  },
  {
   "cell_type": "code",
   "execution_count": null,
   "id": "d7c14be0",
   "metadata": {},
   "outputs": [],
   "source": [
    "from typing import TypedDict, List, Dict, Any, Optional, Literal\n",
    "\n",
    "class FlightState(TypedDict):\n",
    "    request_description: str\n",
    "    flight_price: float | str\n",
    "    flight_from: str\n",
    "    flight_to: str\n",
    "    flight_date: str\n",
    "    flight_airline: Optional[str]\n",
    "    flight_departure_time: Optional[str]\n",
    "    flight_arrival_time: Optional[str]\n",
    "    flight_duration: Optional[str]\n",
    "    flight_stops: Optional[int]\n",
    "    flight_status: Optional[str]\n",
    "\n",
    "    \n",
    "    \n",
    "    "
   ]
  },
  {
   "cell_type": "code",
   "execution_count": null,
   "id": "048eab61",
   "metadata": {},
   "outputs": [],
   "source": [
    "# api call to get flight info\n"
   ]
  },
  {
   "cell_type": "code",
   "execution_count": null,
   "id": "6dc9628a",
   "metadata": {},
   "outputs": [],
   "source": [
    "from langgraph.graph import StateGraph, END\n",
    "from langchain_core.messages import HumanMessage\n",
    "from langchain_anthropic import ChatAnthropic\n",
    "import requests, json\n",
    "\n",
    "graph = StateGraph(dict)\n",
    "\n",
    "def check_flight_function_call\n",
    "def google_flights_node(state, prompt):\n",
    "    params = {...}  # serpapi params\n",
    "    data = requests.get(\"https://serpapi.com/search\", params=params).json()\n",
    "    state[\"raw_flights\"] = data\n",
    "    return state\n",
    "\n",
    "def fetch_node(state):\n",
    "    params = {...}  # serpapi params\n",
    "    data = requests.get(\"https://serpapi.com/search\", params=params).json()\n",
    "    state[\"raw_flights\"] = data\n",
    "    return state\n",
    "\n",
    "def transform_node(state):\n",
    "    state[\"flights_json\"] = transform_flights(state[\"raw_flights\"])\n",
    "    return state\n",
    "\n",
    "llm = ChatAnthropic(model=\"claude-sonnet-4-5\")\n",
    "\n",
    "def select_node(state):\n",
    "    prompt = f\"\"\"\n",
    "    From the following flights: {json.dumps(state['flights_json'], indent=2)}\n",
    "    Pick the most expensive flight and return it as JSON.\n",
    "    \"\"\"\n",
    "    resp = llm.invoke([HumanMessage(content=prompt)])\n",
    "    state[\"selected_flight\"] = resp.content\n",
    "    return state\n",
    "\n",
    "graph.add_node(\"fetch\", fetch_node)\n",
    "graph.add_node(\"transform\", transform_node)\n",
    "graph.add_node(\"select\", select_node)\n",
    "\n",
    "graph.set_entry_point(\"fetch\")\n",
    "graph.add_edge(\"fetch\", \"transform\")\n",
    "graph.add_edge(\"transform\", \"select\")\n",
    "graph.add_edge(\"select\", END)\n",
    "\n",
    "app = graph.compile()\n",
    "result = app.invoke({})\n",
    "print(result[\"selected_flight\"])\n"
   ]
  }
 ],
 "metadata": {
  "kernelspec": {
   "display_name": "Python 3",
   "language": "python",
   "name": "python3"
  },
  "language_info": {
   "codemirror_mode": {
    "name": "ipython",
    "version": 3
   },
   "file_extension": ".py",
   "mimetype": "text/x-python",
   "name": "python",
   "nbconvert_exporter": "python",
   "pygments_lexer": "ipython3",
   "version": "3.11.9"
  }
 },
 "nbformat": 4,
 "nbformat_minor": 5
}
